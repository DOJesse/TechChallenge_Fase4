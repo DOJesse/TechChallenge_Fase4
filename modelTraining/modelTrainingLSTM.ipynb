{
 "cells": [
  {
   "cell_type": "markdown",
   "id": "7aa881e4",
   "metadata": {},
   "source": [
    "# Desenvolvimento do Modelo LSTM\n",
    "\n",
    "Este notebook implementa um modelo de deep learning utilizando LSTM para capturar padrões temporais nos dados de preços das ações baixadas no arquivo `PETR4.SA_data.csv`."
   ]
  },
  {
   "cell_type": "code",
   "execution_count": 1,
   "id": "ed292341",
   "metadata": {},
   "outputs": [
    {
     "name": "stdout",
     "output_type": "stream",
     "text": [
      "Requirement already satisfied: pandas in /home/diogo/Fase 4/TechChallenge_Fase4/.venv/lib/python3.10/site-packages (2.2.3)\n",
      "Requirement already satisfied: numpy in /home/diogo/Fase 4/TechChallenge_Fase4/.venv/lib/python3.10/site-packages (2.1.3)\n",
      "Requirement already satisfied: scikit-learn in /home/diogo/Fase 4/TechChallenge_Fase4/.venv/lib/python3.10/site-packages (1.6.1)\n",
      "Requirement already satisfied: tensorflow in /home/diogo/Fase 4/TechChallenge_Fase4/.venv/lib/python3.10/site-packages (2.19.0)\n",
      "Requirement already satisfied: python-dateutil>=2.8.2 in /home/diogo/Fase 4/TechChallenge_Fase4/.venv/lib/python3.10/site-packages (from pandas) (2.9.0.post0)\n",
      "Requirement already satisfied: pytz>=2020.1 in /home/diogo/Fase 4/TechChallenge_Fase4/.venv/lib/python3.10/site-packages (from pandas) (2025.2)\n",
      "Requirement already satisfied: tzdata>=2022.7 in /home/diogo/Fase 4/TechChallenge_Fase4/.venv/lib/python3.10/site-packages (from pandas) (2025.2)\n",
      "Requirement already satisfied: scipy>=1.6.0 in /home/diogo/Fase 4/TechChallenge_Fase4/.venv/lib/python3.10/site-packages (from scikit-learn) (1.15.3)\n",
      "Requirement already satisfied: joblib>=1.2.0 in /home/diogo/Fase 4/TechChallenge_Fase4/.venv/lib/python3.10/site-packages (from scikit-learn) (1.5.0)\n",
      "Requirement already satisfied: threadpoolctl>=3.1.0 in /home/diogo/Fase 4/TechChallenge_Fase4/.venv/lib/python3.10/site-packages (from scikit-learn) (3.6.0)\n",
      "Requirement already satisfied: absl-py>=1.0.0 in /home/diogo/Fase 4/TechChallenge_Fase4/.venv/lib/python3.10/site-packages (from tensorflow) (2.2.2)\n",
      "Requirement already satisfied: astunparse>=1.6.0 in /home/diogo/Fase 4/TechChallenge_Fase4/.venv/lib/python3.10/site-packages (from tensorflow) (1.6.3)\n",
      "Requirement already satisfied: flatbuffers>=24.3.25 in /home/diogo/Fase 4/TechChallenge_Fase4/.venv/lib/python3.10/site-packages (from tensorflow) (25.2.10)\n",
      "Requirement already satisfied: gast!=0.5.0,!=0.5.1,!=0.5.2,>=0.2.1 in /home/diogo/Fase 4/TechChallenge_Fase4/.venv/lib/python3.10/site-packages (from tensorflow) (0.6.0)\n",
      "Requirement already satisfied: google-pasta>=0.1.1 in /home/diogo/Fase 4/TechChallenge_Fase4/.venv/lib/python3.10/site-packages (from tensorflow) (0.2.0)\n",
      "Requirement already satisfied: libclang>=13.0.0 in /home/diogo/Fase 4/TechChallenge_Fase4/.venv/lib/python3.10/site-packages (from tensorflow) (18.1.1)\n",
      "Requirement already satisfied: opt-einsum>=2.3.2 in /home/diogo/Fase 4/TechChallenge_Fase4/.venv/lib/python3.10/site-packages (from tensorflow) (3.4.0)\n",
      "Requirement already satisfied: packaging in /home/diogo/Fase 4/TechChallenge_Fase4/.venv/lib/python3.10/site-packages (from tensorflow) (25.0)\n",
      "Requirement already satisfied: protobuf!=4.21.0,!=4.21.1,!=4.21.2,!=4.21.3,!=4.21.4,!=4.21.5,<6.0.0dev,>=3.20.3 in /home/diogo/Fase 4/TechChallenge_Fase4/.venv/lib/python3.10/site-packages (from tensorflow) (5.29.4)\n",
      "Requirement already satisfied: requests<3,>=2.21.0 in /home/diogo/Fase 4/TechChallenge_Fase4/.venv/lib/python3.10/site-packages (from tensorflow) (2.32.3)\n",
      "Requirement already satisfied: setuptools in /home/diogo/Fase 4/TechChallenge_Fase4/.venv/lib/python3.10/site-packages (from tensorflow) (59.6.0)\n",
      "Requirement already satisfied: six>=1.12.0 in /home/diogo/Fase 4/TechChallenge_Fase4/.venv/lib/python3.10/site-packages (from tensorflow) (1.17.0)\n",
      "Requirement already satisfied: termcolor>=1.1.0 in /home/diogo/Fase 4/TechChallenge_Fase4/.venv/lib/python3.10/site-packages (from tensorflow) (3.1.0)\n",
      "Requirement already satisfied: typing-extensions>=3.6.6 in /home/diogo/Fase 4/TechChallenge_Fase4/.venv/lib/python3.10/site-packages (from tensorflow) (4.13.2)\n",
      "Requirement already satisfied: wrapt>=1.11.0 in /home/diogo/Fase 4/TechChallenge_Fase4/.venv/lib/python3.10/site-packages (from tensorflow) (1.17.2)\n",
      "Requirement already satisfied: grpcio<2.0,>=1.24.3 in /home/diogo/Fase 4/TechChallenge_Fase4/.venv/lib/python3.10/site-packages (from tensorflow) (1.71.0)\n",
      "Requirement already satisfied: tensorboard~=2.19.0 in /home/diogo/Fase 4/TechChallenge_Fase4/.venv/lib/python3.10/site-packages (from tensorflow) (2.19.0)\n",
      "Requirement already satisfied: keras>=3.5.0 in /home/diogo/Fase 4/TechChallenge_Fase4/.venv/lib/python3.10/site-packages (from tensorflow) (3.9.2)\n",
      "Requirement already satisfied: h5py>=3.11.0 in /home/diogo/Fase 4/TechChallenge_Fase4/.venv/lib/python3.10/site-packages (from tensorflow) (3.13.0)\n",
      "Requirement already satisfied: ml-dtypes<1.0.0,>=0.5.1 in /home/diogo/Fase 4/TechChallenge_Fase4/.venv/lib/python3.10/site-packages (from tensorflow) (0.5.1)\n",
      "Requirement already satisfied: tensorflow-io-gcs-filesystem>=0.23.1 in /home/diogo/Fase 4/TechChallenge_Fase4/.venv/lib/python3.10/site-packages (from tensorflow) (0.37.1)\n",
      "Requirement already satisfied: charset-normalizer<4,>=2 in /home/diogo/Fase 4/TechChallenge_Fase4/.venv/lib/python3.10/site-packages (from requests<3,>=2.21.0->tensorflow) (3.4.1)\n",
      "Requirement already satisfied: idna<4,>=2.5 in /home/diogo/Fase 4/TechChallenge_Fase4/.venv/lib/python3.10/site-packages (from requests<3,>=2.21.0->tensorflow) (3.10)\n",
      "Requirement already satisfied: urllib3<3,>=1.21.1 in /home/diogo/Fase 4/TechChallenge_Fase4/.venv/lib/python3.10/site-packages (from requests<3,>=2.21.0->tensorflow) (2.4.0)\n",
      "Requirement already satisfied: certifi>=2017.4.17 in /home/diogo/Fase 4/TechChallenge_Fase4/.venv/lib/python3.10/site-packages (from requests<3,>=2.21.0->tensorflow) (2025.4.26)\n",
      "Requirement already satisfied: markdown>=2.6.8 in /home/diogo/Fase 4/TechChallenge_Fase4/.venv/lib/python3.10/site-packages (from tensorboard~=2.19.0->tensorflow) (3.8)\n",
      "Requirement already satisfied: tensorboard-data-server<0.8.0,>=0.7.0 in /home/diogo/Fase 4/TechChallenge_Fase4/.venv/lib/python3.10/site-packages (from tensorboard~=2.19.0->tensorflow) (0.7.2)\n",
      "Requirement already satisfied: werkzeug>=1.0.1 in /home/diogo/Fase 4/TechChallenge_Fase4/.venv/lib/python3.10/site-packages (from tensorboard~=2.19.0->tensorflow) (3.1.3)\n",
      "Requirement already satisfied: wheel<1.0,>=0.23.0 in /home/diogo/Fase 4/TechChallenge_Fase4/.venv/lib/python3.10/site-packages (from astunparse>=1.6.0->tensorflow) (0.45.1)\n",
      "Requirement already satisfied: rich in /home/diogo/Fase 4/TechChallenge_Fase4/.venv/lib/python3.10/site-packages (from keras>=3.5.0->tensorflow) (14.0.0)\n",
      "Requirement already satisfied: namex in /home/diogo/Fase 4/TechChallenge_Fase4/.venv/lib/python3.10/site-packages (from keras>=3.5.0->tensorflow) (0.0.9)\n",
      "Requirement already satisfied: optree in /home/diogo/Fase 4/TechChallenge_Fase4/.venv/lib/python3.10/site-packages (from keras>=3.5.0->tensorflow) (0.15.0)\n",
      "Requirement already satisfied: MarkupSafe>=2.1.1 in /home/diogo/Fase 4/TechChallenge_Fase4/.venv/lib/python3.10/site-packages (from werkzeug>=1.0.1->tensorboard~=2.19.0->tensorflow) (3.0.2)\n",
      "Requirement already satisfied: markdown-it-py>=2.2.0 in /home/diogo/Fase 4/TechChallenge_Fase4/.venv/lib/python3.10/site-packages (from rich->keras>=3.5.0->tensorflow) (3.0.0)\n",
      "Requirement already satisfied: pygments<3.0.0,>=2.13.0 in /home/diogo/Fase 4/TechChallenge_Fase4/.venv/lib/python3.10/site-packages (from rich->keras>=3.5.0->tensorflow) (2.19.1)\n",
      "Requirement already satisfied: mdurl~=0.1 in /home/diogo/Fase 4/TechChallenge_Fase4/.venv/lib/python3.10/site-packages (from markdown-it-py>=2.2.0->rich->keras>=3.5.0->tensorflow) (0.1.2)\n",
      "Note: you may need to restart the kernel to use updated packages.\n"
     ]
    }
   ],
   "source": [
    "# Instalar bibliotecas necessárias\n",
    "%pip install pandas numpy scikit-learn tensorflow"
   ]
  },
  {
   "cell_type": "code",
   "execution_count": 2,
   "id": "81ae8ccd",
   "metadata": {},
   "outputs": [
    {
     "name": "stderr",
     "output_type": "stream",
     "text": [
      "2025-05-18 14:47:04.782490: I tensorflow/core/util/port.cc:153] oneDNN custom operations are on. You may see slightly different numerical results due to floating-point round-off errors from different computation orders. To turn them off, set the environment variable `TF_ENABLE_ONEDNN_OPTS=0`.\n",
      "2025-05-18 14:47:04.790865: I external/local_xla/xla/tsl/cuda/cudart_stub.cc:32] Could not find cuda drivers on your machine, GPU will not be used.\n",
      "2025-05-18 14:47:04.861106: I external/local_xla/xla/tsl/cuda/cudart_stub.cc:32] Could not find cuda drivers on your machine, GPU will not be used.\n",
      "2025-05-18 14:47:04.915773: E external/local_xla/xla/stream_executor/cuda/cuda_fft.cc:467] Unable to register cuFFT factory: Attempting to register factory for plugin cuFFT when one has already been registered\n",
      "WARNING: All log messages before absl::InitializeLog() is called are written to STDERR\n",
      "E0000 00:00:1747590424.967019    6929 cuda_dnn.cc:8579] Unable to register cuDNN factory: Attempting to register factory for plugin cuDNN when one has already been registered\n",
      "E0000 00:00:1747590424.980833    6929 cuda_blas.cc:1407] Unable to register cuBLAS factory: Attempting to register factory for plugin cuBLAS when one has already been registered\n",
      "W0000 00:00:1747590425.088504    6929 computation_placer.cc:177] computation placer already registered. Please check linkage and avoid linking the same target more than once.\n",
      "W0000 00:00:1747590425.088533    6929 computation_placer.cc:177] computation placer already registered. Please check linkage and avoid linking the same target more than once.\n",
      "W0000 00:00:1747590425.088537    6929 computation_placer.cc:177] computation placer already registered. Please check linkage and avoid linking the same target more than once.\n",
      "W0000 00:00:1747590425.088540    6929 computation_placer.cc:177] computation placer already registered. Please check linkage and avoid linking the same target more than once.\n",
      "2025-05-18 14:47:05.102001: I tensorflow/core/platform/cpu_feature_guard.cc:210] This TensorFlow binary is optimized to use available CPU instructions in performance-critical operations.\n",
      "To enable the following instructions: AVX2 AVX_VNNI FMA, in other operations, rebuild TensorFlow with the appropriate compiler flags.\n"
     ]
    }
   ],
   "source": [
    "# Importar bibliotecas necessárias\n",
    "import pandas as pd\n",
    "import numpy as np\n",
    "import matplotlib.pyplot as plt\n",
    "from sklearn.model_selection import train_test_split\n",
    "from sklearn.preprocessing import MinMaxScaler\n",
    "from tensorflow.keras.models import Sequential\n",
    "from tensorflow.keras.layers import LSTM, Dense"
   ]
  },
  {
   "cell_type": "code",
   "execution_count": 3,
   "id": "541f441e",
   "metadata": {},
   "outputs": [],
   "source": [
    "# Carregar os dados\n",
    "data = pd.read_csv('../downloadData/data/PETR4.SA_data.csv')\n",
    "data['Date'] = pd.to_datetime(data['Date'])\n",
    "data.set_index('Date', inplace=True)\n",
    "\n",
    "# Ajustar as colunas relacionadas à moeda para duas casas decimais\n",
    "for col in ['Close', 'High', 'Low', 'Open']:\n",
    "    data[col] = data[col].round(2)\n",
    "\n",
    "# Garantir que a coluna Volume seja tratada como número inteiro\n",
    "data['Volume'] = data['Volume'].astype(int)\n",
    "\n",
    "# Selecionar a coluna de fechamento ajustado\n",
    "features = data[['Close', 'Open', 'High', 'Low', 'Volume']]\n",
    "scaler = MinMaxScaler()\n",
    "scaled_features = scaler.fit_transform(features)\n",
    "# X, y = create_sequences(scaled_features, sequence_length)"
   ]
  },
  {
   "cell_type": "code",
   "execution_count": 4,
   "id": "b4ce93ad",
   "metadata": {},
   "outputs": [],
   "source": [
    "# Criar sequências para o modelo LSTM\n",
    "def create_sequences(data, sequence_length):\n",
    "    sequences = []\n",
    "    labels = []\n",
    "    for i in range(len(data) - sequence_length):\n",
    "        sequences.append(data[i:i + sequence_length])\n",
    "        labels.append(data[i + sequence_length][0])  # Apenas o índice 0 (Close)\n",
    "    return np.array(sequences), np.array(labels)\n",
    "\n",
    "sequence_length = 60\n",
    "X, y = create_sequences(scaled_features, sequence_length)"
   ]
  },
  {
   "cell_type": "code",
   "execution_count": 5,
   "id": "2f6cc7cc",
   "metadata": {},
   "outputs": [],
   "source": [
    "# Dividir os dados em conjuntos de treinamento e validação\n",
    "X_train, X_val, y_train, y_val = train_test_split(X, y, test_size=0.2, random_state=42)"
   ]
  },
  {
   "cell_type": "code",
   "execution_count": 6,
   "id": "073a5c8b",
   "metadata": {},
   "outputs": [
    {
     "name": "stderr",
     "output_type": "stream",
     "text": [
      "E0000 00:00:1747590429.197028    6929 cuda_executor.cc:1228] INTERNAL: CUDA Runtime error: Failed call to cudaGetRuntimeVersion: Error loading CUDA libraries. GPU will not be used.: Error loading CUDA libraries. GPU will not be used.\n",
      "W0000 00:00:1747590429.198682    6929 gpu_device.cc:2341] Cannot dlopen some GPU libraries. Please make sure the missing libraries mentioned above are installed properly if you would like to use GPU. Follow the guide at https://www.tensorflow.org/install/gpu for how to download and setup the required libraries for your platform.\n",
      "Skipping registering GPU devices...\n",
      "/home/diogo/Fase 4/TechChallenge_Fase4/.venv/lib/python3.10/site-packages/keras/src/layers/rnn/rnn.py:200: UserWarning: Do not pass an `input_shape`/`input_dim` argument to a layer. When using Sequential models, prefer using an `Input(shape)` object as the first layer in the model instead.\n",
      "  super().__init__(**kwargs)\n"
     ]
    }
   ],
   "source": [
    "# Construir o modelo LSTM\n",
    "model = Sequential([\n",
    "    LSTM(50, return_sequences=True, input_shape=(X_train.shape[1], X_train.shape[2])),\n",
    "    LSTM(50, return_sequences=False),\n",
    "    Dense(25),\n",
    "    Dense(1)\n",
    "])\n",
    "\n",
    "model.compile(optimizer='adam', loss='mean_squared_error')"
   ]
  },
  {
   "cell_type": "code",
   "execution_count": 7,
   "id": "7e5ef2f8",
   "metadata": {},
   "outputs": [
    {
     "name": "stdout",
     "output_type": "stream",
     "text": [
      "Epoch 1/20\n",
      "\u001b[1m158/158\u001b[0m \u001b[32m━━━━━━━━━━━━━━━━━━━━\u001b[0m\u001b[37m\u001b[0m \u001b[1m5s\u001b[0m 21ms/step - loss: 0.0063 - val_loss: 2.9204e-04\n",
      "Epoch 2/20\n",
      "\u001b[1m158/158\u001b[0m \u001b[32m━━━━━━━━━━━━━━━━━━━━\u001b[0m\u001b[37m\u001b[0m \u001b[1m3s\u001b[0m 19ms/step - loss: 2.5334e-04 - val_loss: 2.5627e-04\n",
      "Epoch 3/20\n",
      "\u001b[1m158/158\u001b[0m \u001b[32m━━━━━━━━━━━━━━━━━━━━\u001b[0m\u001b[37m\u001b[0m \u001b[1m3s\u001b[0m 19ms/step - loss: 2.3614e-04 - val_loss: 2.4509e-04\n",
      "Epoch 4/20\n",
      "\u001b[1m158/158\u001b[0m \u001b[32m━━━━━━━━━━━━━━━━━━━━\u001b[0m\u001b[37m\u001b[0m \u001b[1m3s\u001b[0m 19ms/step - loss: 2.6177e-04 - val_loss: 3.1319e-04\n",
      "Epoch 5/20\n",
      "\u001b[1m158/158\u001b[0m \u001b[32m━━━━━━━━━━━━━━━━━━━━\u001b[0m\u001b[37m\u001b[0m \u001b[1m3s\u001b[0m 19ms/step - loss: 1.8952e-04 - val_loss: 1.7482e-04\n",
      "Epoch 6/20\n",
      "\u001b[1m158/158\u001b[0m \u001b[32m━━━━━━━━━━━━━━━━━━━━\u001b[0m\u001b[37m\u001b[0m \u001b[1m3s\u001b[0m 19ms/step - loss: 1.5894e-04 - val_loss: 1.2076e-04\n",
      "Epoch 7/20\n",
      "\u001b[1m158/158\u001b[0m \u001b[32m━━━━━━━━━━━━━━━━━━━━\u001b[0m\u001b[37m\u001b[0m \u001b[1m3s\u001b[0m 19ms/step - loss: 1.4029e-04 - val_loss: 1.1155e-04\n",
      "Epoch 8/20\n",
      "\u001b[1m158/158\u001b[0m \u001b[32m━━━━━━━━━━━━━━━━━━━━\u001b[0m\u001b[37m\u001b[0m \u001b[1m3s\u001b[0m 19ms/step - loss: 1.2971e-04 - val_loss: 1.4708e-04\n",
      "Epoch 9/20\n",
      "\u001b[1m158/158\u001b[0m \u001b[32m━━━━━━━━━━━━━━━━━━━━\u001b[0m\u001b[37m\u001b[0m \u001b[1m3s\u001b[0m 19ms/step - loss: 1.3515e-04 - val_loss: 1.3150e-04\n",
      "Epoch 10/20\n",
      "\u001b[1m158/158\u001b[0m \u001b[32m━━━━━━━━━━━━━━━━━━━━\u001b[0m\u001b[37m\u001b[0m \u001b[1m3s\u001b[0m 19ms/step - loss: 1.6001e-04 - val_loss: 1.0559e-04\n",
      "Epoch 11/20\n",
      "\u001b[1m158/158\u001b[0m \u001b[32m━━━━━━━━━━━━━━━━━━━━\u001b[0m\u001b[37m\u001b[0m \u001b[1m3s\u001b[0m 19ms/step - loss: 1.4325e-04 - val_loss: 1.4844e-04\n",
      "Epoch 12/20\n",
      "\u001b[1m158/158\u001b[0m \u001b[32m━━━━━━━━━━━━━━━━━━━━\u001b[0m\u001b[37m\u001b[0m \u001b[1m3s\u001b[0m 19ms/step - loss: 1.0532e-04 - val_loss: 1.3015e-04\n",
      "Epoch 13/20\n",
      "\u001b[1m158/158\u001b[0m \u001b[32m━━━━━━━━━━━━━━━━━━━━\u001b[0m\u001b[37m\u001b[0m \u001b[1m3s\u001b[0m 19ms/step - loss: 1.1361e-04 - val_loss: 9.2945e-05\n",
      "Epoch 14/20\n",
      "\u001b[1m158/158\u001b[0m \u001b[32m━━━━━━━━━━━━━━━━━━━━\u001b[0m\u001b[37m\u001b[0m \u001b[1m3s\u001b[0m 19ms/step - loss: 1.0416e-04 - val_loss: 7.7050e-05\n",
      "Epoch 15/20\n",
      "\u001b[1m158/158\u001b[0m \u001b[32m━━━━━━━━━━━━━━━━━━━━\u001b[0m\u001b[37m\u001b[0m \u001b[1m3s\u001b[0m 19ms/step - loss: 9.0702e-05 - val_loss: 9.4236e-05\n",
      "Epoch 16/20\n",
      "\u001b[1m158/158\u001b[0m \u001b[32m━━━━━━━━━━━━━━━━━━━━\u001b[0m\u001b[37m\u001b[0m \u001b[1m3s\u001b[0m 19ms/step - loss: 1.0394e-04 - val_loss: 8.3756e-05\n",
      "Epoch 17/20\n",
      "\u001b[1m158/158\u001b[0m \u001b[32m━━━━━━━━━━━━━━━━━━━━\u001b[0m\u001b[37m\u001b[0m \u001b[1m3s\u001b[0m 19ms/step - loss: 9.5029e-05 - val_loss: 6.9912e-05\n",
      "Epoch 18/20\n",
      "\u001b[1m158/158\u001b[0m \u001b[32m━━━━━━━━━━━━━━━━━━━━\u001b[0m\u001b[37m\u001b[0m \u001b[1m3s\u001b[0m 19ms/step - loss: 9.9072e-05 - val_loss: 7.5390e-05\n",
      "Epoch 19/20\n",
      "\u001b[1m158/158\u001b[0m \u001b[32m━━━━━━━━━━━━━━━━━━━━\u001b[0m\u001b[37m\u001b[0m \u001b[1m3s\u001b[0m 19ms/step - loss: 1.1848e-04 - val_loss: 6.6491e-05\n",
      "Epoch 20/20\n",
      "\u001b[1m158/158\u001b[0m \u001b[32m━━━━━━━━━━━━━━━━━━━━\u001b[0m\u001b[37m\u001b[0m \u001b[1m3s\u001b[0m 18ms/step - loss: 1.0076e-04 - val_loss: 1.6543e-04\n"
     ]
    }
   ],
   "source": [
    "# Treinar o modelo\n",
    "history = model.fit(X_train, y_train, validation_data=(X_val, y_val), epochs=20, batch_size=32)"
   ]
  },
  {
   "cell_type": "code",
   "execution_count": 8,
   "id": "cda7d8ec",
   "metadata": {},
   "outputs": [
    {
     "name": "stdout",
     "output_type": "stream",
     "text": [
      "\u001b[1m40/40\u001b[0m \u001b[32m━━━━━━━━━━━━━━━━━━━━\u001b[0m\u001b[37m\u001b[0m \u001b[1m1s\u001b[0m 10ms/step\n",
      "MAE: 0.008761477778758511\n",
      "RMSE: 0.012861972422241968\n",
      "MAPE: 0.10710292268292437\n"
     ]
    }
   ],
   "source": [
    "# Avaliar o modelo\n",
    "from sklearn.metrics import mean_absolute_error, mean_squared_error, mean_absolute_percentage_error\n",
    "\n",
    "y_pred = model.predict(X_val)\n",
    "mae = mean_absolute_error(y_val, y_pred)\n",
    "rmse = np.sqrt(mean_squared_error(y_val, y_pred))\n",
    "mape = mean_absolute_percentage_error(y_val, y_pred)\n",
    "\n",
    "print(f'MAE: {mae}')\n",
    "print(f'RMSE: {rmse}')\n",
    "print(f'MAPE: {mape}')"
   ]
  },
  {
   "cell_type": "code",
   "execution_count": 9,
   "id": "c3a018e5",
   "metadata": {},
   "outputs": [
    {
     "name": "stdout",
     "output_type": "stream",
     "text": [
      "Requirement already satisfied: matplotlib in /home/diogo/Fase 4/TechChallenge_Fase4/.venv/lib/python3.10/site-packages (3.10.3)\n",
      "Requirement already satisfied: contourpy>=1.0.1 in /home/diogo/Fase 4/TechChallenge_Fase4/.venv/lib/python3.10/site-packages (from matplotlib) (1.3.2)\n",
      "Requirement already satisfied: cycler>=0.10 in /home/diogo/Fase 4/TechChallenge_Fase4/.venv/lib/python3.10/site-packages (from matplotlib) (0.12.1)\n",
      "Requirement already satisfied: fonttools>=4.22.0 in /home/diogo/Fase 4/TechChallenge_Fase4/.venv/lib/python3.10/site-packages (from matplotlib) (4.58.0)\n",
      "Requirement already satisfied: kiwisolver>=1.3.1 in /home/diogo/Fase 4/TechChallenge_Fase4/.venv/lib/python3.10/site-packages (from matplotlib) (1.4.8)\n",
      "Requirement already satisfied: numpy>=1.23 in /home/diogo/Fase 4/TechChallenge_Fase4/.venv/lib/python3.10/site-packages (from matplotlib) (2.1.3)\n",
      "Requirement already satisfied: packaging>=20.0 in /home/diogo/Fase 4/TechChallenge_Fase4/.venv/lib/python3.10/site-packages (from matplotlib) (25.0)\n",
      "Requirement already satisfied: pillow>=8 in /home/diogo/Fase 4/TechChallenge_Fase4/.venv/lib/python3.10/site-packages (from matplotlib) (11.2.1)\n",
      "Requirement already satisfied: pyparsing>=2.3.1 in /home/diogo/Fase 4/TechChallenge_Fase4/.venv/lib/python3.10/site-packages (from matplotlib) (3.2.3)\n",
      "Requirement already satisfied: python-dateutil>=2.7 in /home/diogo/Fase 4/TechChallenge_Fase4/.venv/lib/python3.10/site-packages (from matplotlib) (2.9.0.post0)\n",
      "Requirement already satisfied: six>=1.5 in /home/diogo/Fase 4/TechChallenge_Fase4/.venv/lib/python3.10/site-packages (from python-dateutil>=2.7->matplotlib) (1.17.0)\n",
      "Note: you may need to restart the kernel to use updated packages.\n"
     ]
    }
   ],
   "source": [
    "pip install matplotlib"
   ]
  },
  {
   "cell_type": "code",
   "execution_count": 11,
   "id": "824fa4cf",
   "metadata": {},
   "outputs": [
    {
     "name": "stdout",
     "output_type": "stream",
     "text": [
      "\u001b[1m197/197\u001b[0m \u001b[32m━━━━━━━━━━━━━━━━━━━━\u001b[0m\u001b[37m\u001b[0m \u001b[1m1s\u001b[0m 7ms/step\n"
     ]
    },
    {
     "data": {
      "image/png": "[encoded data removed]",
      "text/plain": [
       "<Figure size 1400x600 with 1 Axes>"
      ]
     },
     "metadata": {},
     "output_type": "display_data"
    }
   ],
   "source": [
    "# previsões\n",
    "y_pred = model.predict(X).flatten()\n",
    "\n",
    "# índice da coluna \"Close\" no seu scaler\n",
    "close_ix = 3  \n",
    "\n",
    "# pega valores originais de min e max\n",
    "min_close = scaler.data_min_[close_ix]\n",
    "max_close = scaler.data_max_[close_ix]\n",
    "\n",
    "# desnormaliza\n",
    "y_true_unscaled = y * (max_close - min_close) + min_close\n",
    "y_pred_unscaled = y_pred * (max_close - min_close) + min_close\n",
    "\n",
    "# plota\n",
    "plt.figure(figsize=(14, 6))\n",
    "plt.plot(y_true_unscaled, label=\"Real\")\n",
    "plt.plot(y_pred_unscaled, label=\"Previsto\")\n",
    "plt.title(\"Real vs Previsto (desnormalizado)\")\n",
    "plt.xlabel(\"Tempo\")\n",
    "plt.ylabel(\"Preço\")\n",
    "plt.legend()\n",
    "plt.grid(True)\n",
    "plt.show()\n"
   ]
  },
  {
   "cell_type": "code",
   "execution_count": 12,
   "id": "49e0b0d0",
   "metadata": {},
   "outputs": [
    {
     "name": "stdout",
     "output_type": "stream",
     "text": [
      "Requirement already satisfied: scikeras in /home/diogo/Fase 4/TechChallenge_Fase4/.venv/lib/python3.10/site-packages (0.13.0)\n",
      "Requirement already satisfied: keras>=3.2.0 in /home/diogo/Fase 4/TechChallenge_Fase4/.venv/lib/python3.10/site-packages (from scikeras) (3.9.2)\n",
      "Requirement already satisfied: scikit-learn>=1.4.2 in /home/diogo/Fase 4/TechChallenge_Fase4/.venv/lib/python3.10/site-packages (from scikeras) (1.6.1)\n",
      "Requirement already satisfied: absl-py in /home/diogo/Fase 4/TechChallenge_Fase4/.venv/lib/python3.10/site-packages (from keras>=3.2.0->scikeras) (2.2.2)\n",
      "Requirement already satisfied: numpy in /home/diogo/Fase 4/TechChallenge_Fase4/.venv/lib/python3.10/site-packages (from keras>=3.2.0->scikeras) (2.1.3)\n",
      "Requirement already satisfied: rich in /home/diogo/Fase 4/TechChallenge_Fase4/.venv/lib/python3.10/site-packages (from keras>=3.2.0->scikeras) (14.0.0)\n",
      "Requirement already satisfied: namex in /home/diogo/Fase 4/TechChallenge_Fase4/.venv/lib/python3.10/site-packages (from keras>=3.2.0->scikeras) (0.0.9)\n",
      "Requirement already satisfied: h5py in /home/diogo/Fase 4/TechChallenge_Fase4/.venv/lib/python3.10/site-packages (from keras>=3.2.0->scikeras) (3.13.0)\n",
      "Requirement already satisfied: optree in /home/diogo/Fase 4/TechChallenge_Fase4/.venv/lib/python3.10/site-packages (from keras>=3.2.0->scikeras) (0.15.0)\n",
      "Requirement already satisfied: ml-dtypes in /home/diogo/Fase 4/TechChallenge_Fase4/.venv/lib/python3.10/site-packages (from keras>=3.2.0->scikeras) (0.5.1)\n",
      "Requirement already satisfied: packaging in /home/diogo/Fase 4/TechChallenge_Fase4/.venv/lib/python3.10/site-packages (from keras>=3.2.0->scikeras) (25.0)\n",
      "Requirement already satisfied: scipy>=1.6.0 in /home/diogo/Fase 4/TechChallenge_Fase4/.venv/lib/python3.10/site-packages (from scikit-learn>=1.4.2->scikeras) (1.15.3)\n",
      "Requirement already satisfied: joblib>=1.2.0 in /home/diogo/Fase 4/TechChallenge_Fase4/.venv/lib/python3.10/site-packages (from scikit-learn>=1.4.2->scikeras) (1.5.0)\n",
      "Requirement already satisfied: threadpoolctl>=3.1.0 in /home/diogo/Fase 4/TechChallenge_Fase4/.venv/lib/python3.10/site-packages (from scikit-learn>=1.4.2->scikeras) (3.6.0)\n",
      "Requirement already satisfied: typing-extensions>=4.5.0 in /home/diogo/Fase 4/TechChallenge_Fase4/.venv/lib/python3.10/site-packages (from optree->keras>=3.2.0->scikeras) (4.13.2)\n",
      "Requirement already satisfied: markdown-it-py>=2.2.0 in /home/diogo/Fase 4/TechChallenge_Fase4/.venv/lib/python3.10/site-packages (from rich->keras>=3.2.0->scikeras) (3.0.0)\n",
      "Requirement already satisfied: pygments<3.0.0,>=2.13.0 in /home/diogo/Fase 4/TechChallenge_Fase4/.venv/lib/python3.10/site-packages (from rich->keras>=3.2.0->scikeras) (2.19.1)\n",
      "Requirement already satisfied: mdurl~=0.1 in /home/diogo/Fase 4/TechChallenge_Fase4/.venv/lib/python3.10/site-packages (from markdown-it-py>=2.2.0->rich->keras>=3.2.0->scikeras) (0.1.2)\n",
      "Note: you may need to restart the kernel to use updated packages.\n"
     ]
    }
   ],
   "source": [
    "pip install scikeras"
   ]
  },
  {
   "cell_type": "code",
   "execution_count": 13,
   "id": "10ee5cdf",
   "metadata": {},
   "outputs": [
    {
     "name": "stdout",
     "output_type": "stream",
     "text": [
      "Requirement already satisfied: scikeras in /home/diogo/Fase 4/TechChallenge_Fase4/.venv/lib/python3.10/site-packages (0.13.0)\n",
      "Requirement already satisfied: scikit-learn in /home/diogo/Fase 4/TechChallenge_Fase4/.venv/lib/python3.10/site-packages (1.6.1)\n",
      "Requirement already satisfied: keras>=3.2.0 in /home/diogo/Fase 4/TechChallenge_Fase4/.venv/lib/python3.10/site-packages (from scikeras) (3.9.2)\n",
      "Requirement already satisfied: numpy>=1.19.5 in /home/diogo/Fase 4/TechChallenge_Fase4/.venv/lib/python3.10/site-packages (from scikit-learn) (2.1.3)\n",
      "Requirement already satisfied: scipy>=1.6.0 in /home/diogo/Fase 4/TechChallenge_Fase4/.venv/lib/python3.10/site-packages (from scikit-learn) (1.15.3)\n",
      "Requirement already satisfied: joblib>=1.2.0 in /home/diogo/Fase 4/TechChallenge_Fase4/.venv/lib/python3.10/site-packages (from scikit-learn) (1.5.0)\n",
      "Requirement already satisfied: threadpoolctl>=3.1.0 in /home/diogo/Fase 4/TechChallenge_Fase4/.venv/lib/python3.10/site-packages (from scikit-learn) (3.6.0)\n",
      "Requirement already satisfied: absl-py in /home/diogo/Fase 4/TechChallenge_Fase4/.venv/lib/python3.10/site-packages (from keras>=3.2.0->scikeras) (2.2.2)\n",
      "Requirement already satisfied: rich in /home/diogo/Fase 4/TechChallenge_Fase4/.venv/lib/python3.10/site-packages (from keras>=3.2.0->scikeras) (14.0.0)\n",
      "Requirement already satisfied: namex in /home/diogo/Fase 4/TechChallenge_Fase4/.venv/lib/python3.10/site-packages (from keras>=3.2.0->scikeras) (0.0.9)\n",
      "Requirement already satisfied: h5py in /home/diogo/Fase 4/TechChallenge_Fase4/.venv/lib/python3.10/site-packages (from keras>=3.2.0->scikeras) (3.13.0)\n",
      "Requirement already satisfied: optree in /home/diogo/Fase 4/TechChallenge_Fase4/.venv/lib/python3.10/site-packages (from keras>=3.2.0->scikeras) (0.15.0)\n",
      "Requirement already satisfied: ml-dtypes in /home/diogo/Fase 4/TechChallenge_Fase4/.venv/lib/python3.10/site-packages (from keras>=3.2.0->scikeras) (0.5.1)\n",
      "Requirement already satisfied: packaging in /home/diogo/Fase 4/TechChallenge_Fase4/.venv/lib/python3.10/site-packages (from keras>=3.2.0->scikeras) (25.0)\n",
      "Requirement already satisfied: typing-extensions>=4.5.0 in /home/diogo/Fase 4/TechChallenge_Fase4/.venv/lib/python3.10/site-packages (from optree->keras>=3.2.0->scikeras) (4.13.2)\n",
      "Requirement already satisfied: markdown-it-py>=2.2.0 in /home/diogo/Fase 4/TechChallenge_Fase4/.venv/lib/python3.10/site-packages (from rich->keras>=3.2.0->scikeras) (3.0.0)\n",
      "Requirement already satisfied: pygments<3.0.0,>=2.13.0 in /home/diogo/Fase 4/TechChallenge_Fase4/.venv/lib/python3.10/site-packages (from rich->keras>=3.2.0->scikeras) (2.19.1)\n",
      "Requirement already satisfied: mdurl~=0.1 in /home/diogo/Fase 4/TechChallenge_Fase4/.venv/lib/python3.10/site-packages (from markdown-it-py>=2.2.0->rich->keras>=3.2.0->scikeras) (0.1.2)\n",
      "Note: you may need to restart the kernel to use updated packages.\n"
     ]
    }
   ],
   "source": [
    "pip install --upgrade scikeras scikit-learn"
   ]
  },
  {
   "cell_type": "code",
   "execution_count": 14,
   "id": "59108d54",
   "metadata": {},
   "outputs": [
    {
     "name": "stderr",
     "output_type": "stream",
     "text": [
      "/home/diogo/Fase 4/TechChallenge_Fase4/.venv/lib/python3.10/site-packages/keras/src/layers/rnn/rnn.py:200: UserWarning: Do not pass an `input_shape`/`input_dim` argument to a layer. When using Sequential models, prefer using an `Input(shape)` object as the first layer in the model instead.\n",
      "  super().__init__(**kwargs)\n"
     ]
    },
    {
     "name": "stdout",
     "output_type": "stream",
     "text": [
      "\u001b[1m40/40\u001b[0m \u001b[32m━━━━━━━━━━━━━━━━━━━━\u001b[0m\u001b[37m\u001b[0m \u001b[1m1s\u001b[0m 10ms/step\n",
      "Config: units=50, dropout=0.2, lr=0.001, batch_size=32, epochs=20\n",
      "MAE: 0.0104, RMSE: 0.0136, MAPE: 0.1980\n",
      "\n"
     ]
    },
    {
     "name": "stderr",
     "output_type": "stream",
     "text": [
      "/home/diogo/Fase 4/TechChallenge_Fase4/.venv/lib/python3.10/site-packages/keras/src/layers/rnn/rnn.py:200: UserWarning: Do not pass an `input_shape`/`input_dim` argument to a layer. When using Sequential models, prefer using an `Input(shape)` object as the first layer in the model instead.\n",
      "  super().__init__(**kwargs)\n"
     ]
    },
    {
     "name": "stdout",
     "output_type": "stream",
     "text": [
      "\u001b[1m40/40\u001b[0m \u001b[32m━━━━━━━━━━━━━━━━━━━━\u001b[0m\u001b[37m\u001b[0m \u001b[1m1s\u001b[0m 14ms/step\n",
      "Config: units=64, dropout=0.3, lr=0.0005, batch_size=16, epochs=30\n",
      "MAE: 0.0068, RMSE: 0.0114, MAPE: 0.0761\n",
      "\n"
     ]
    }
   ],
   "source": [
    "#Ajustando os hiperparâmetros exemplo: 1\n",
    "from tensorflow.keras.models import Sequential\n",
    "from tensorflow.keras.layers import LSTM, Dense, Dropout\n",
    "from tensorflow.keras.optimizers import Adam\n",
    "from sklearn.metrics import mean_squared_error, mean_absolute_error, mean_absolute_percentage_error\n",
    "import numpy as np\n",
    "\n",
    "def train_and_evaluate_model(units, dropout, lr, batch_size, epochs):\n",
    "    model = Sequential([\n",
    "        LSTM(units, return_sequences=True, input_shape=(X_train.shape[1], X_train.shape[2])),\n",
    "        Dropout(dropout),\n",
    "        LSTM(units),\n",
    "        Dropout(dropout),\n",
    "        Dense(25),\n",
    "        Dense(1)\n",
    "    ])\n",
    "    model.compile(optimizer=Adam(learning_rate=lr), loss='mean_squared_error')\n",
    "    model.fit(X_train, y_train, validation_data=(X_val, y_val), epochs=epochs, batch_size=batch_size, verbose=0)\n",
    "    \n",
    "    y_pred = model.predict(X_val)\n",
    "    mae = mean_absolute_error(y_val, y_pred)\n",
    "    rmse = np.sqrt(mean_squared_error(y_val, y_pred))\n",
    "    mape = mean_absolute_percentage_error(y_val, y_pred)\n",
    "    \n",
    "    print(f\"Config: units={units}, dropout={dropout}, lr={lr}, batch_size={batch_size}, epochs={epochs}\")\n",
    "    print(f\"MAE: {mae:.4f}, RMSE: {rmse:.4f}, MAPE: {mape:.4f}\\n\")\n",
    "\n",
    "# Testar 2 configurações simples\n",
    "train_and_evaluate_model(units=50, dropout=0.2, lr=0.001, batch_size=32, epochs=20)\n",
    "train_and_evaluate_model(units=64, dropout=0.3, lr=0.0005, batch_size=16, epochs=30)\n"
   ]
  },
  {
   "cell_type": "code",
   "execution_count": 15,
   "id": "5a48472d",
   "metadata": {},
   "outputs": [
    {
     "name": "stderr",
     "output_type": "stream",
     "text": [
      "/home/diogo/Fase 4/TechChallenge_Fase4/.venv/lib/python3.10/site-packages/keras/src/layers/rnn/rnn.py:200: UserWarning: Do not pass an `input_shape`/`input_dim` argument to a layer. When using Sequential models, prefer using an `Input(shape)` object as the first layer in the model instead.\n",
      "  super().__init__(**kwargs)\n"
     ]
    },
    {
     "name": "stdout",
     "output_type": "stream",
     "text": [
      "\u001b[1m40/40\u001b[0m \u001b[32m━━━━━━━━━━━━━━━━━━━━\u001b[0m\u001b[37m\u001b[0m \u001b[1m1s\u001b[0m 12ms/step\n",
      "Config: units=50, dropout=0.2, lr=0.001, batch_size=32, epochs=50\n",
      "MAE: 0.0080, RMSE: 0.0134, MAPE: 0.0729\n",
      "\n"
     ]
    },
    {
     "name": "stderr",
     "output_type": "stream",
     "text": [
      "/home/diogo/Fase 4/TechChallenge_Fase4/.venv/lib/python3.10/site-packages/keras/src/layers/rnn/rnn.py:200: UserWarning: Do not pass an `input_shape`/`input_dim` argument to a layer. When using Sequential models, prefer using an `Input(shape)` object as the first layer in the model instead.\n",
      "  super().__init__(**kwargs)\n"
     ]
    },
    {
     "name": "stdout",
     "output_type": "stream",
     "text": [
      "\u001b[1m40/40\u001b[0m \u001b[32m━━━━━━━━━━━━━━━━━━━━\u001b[0m\u001b[37m\u001b[0m \u001b[1m1s\u001b[0m 11ms/step\n",
      "Config: units=64, dropout=0.3, lr=0.0005, batch_size=16, epochs=50\n",
      "MAE: 0.0109, RMSE: 0.0173, MAPE: 0.1398\n",
      "\n",
      "\n",
      "📊 Resultados comparativos:\n",
      "   units  dropout  learning_rate  batch_size  epochs       MAE      RMSE  \\\n",
      "0     50      0.2         0.0010          32      50  0.008046  0.013367   \n",
      "1     64      0.3         0.0005          16      50  0.010937  0.017336   \n",
      "\n",
      "       MAPE  \n",
      "0  0.072936  \n",
      "1  0.139818  \n"
     ]
    }
   ],
   "source": [
    "#Ajustando os hiperparâmetros exemplo: 2\n",
    "import pandas as pd\n",
    "import numpy as np\n",
    "from tensorflow.keras.models import Sequential\n",
    "from tensorflow.keras.layers import LSTM, Dense, Dropout\n",
    "from tensorflow.keras.optimizers import Adam\n",
    "from tensorflow.keras.callbacks import EarlyStopping\n",
    "from sklearn.metrics import mean_squared_error, mean_absolute_error, mean_absolute_percentage_error\n",
    "\n",
    "results = []\n",
    "\n",
    "def train_and_evaluate_model(units, dropout, lr, batch_size, epochs):\n",
    "    model = Sequential([\n",
    "        # Agora usando Input(), como sugerido no warning\n",
    "        LSTM(units, return_sequences=True, input_shape=(X_train.shape[1], X_train.shape[2])),\n",
    "        Dropout(dropout),\n",
    "        LSTM(units),\n",
    "        Dropout(dropout),\n",
    "        Dense(25),\n",
    "        Dense(1)\n",
    "    ])\n",
    "    \n",
    "    model.compile(optimizer=Adam(learning_rate=lr), loss='mean_squared_error')\n",
    "\n",
    "    # EarlyStopping\n",
    "    early_stop = EarlyStopping(monitor='val_loss', patience=5, restore_best_weights=True)\n",
    "\n",
    "    model.fit(\n",
    "        X_train, y_train,\n",
    "        validation_data=(X_val, y_val),\n",
    "        epochs=epochs,\n",
    "        batch_size=batch_size,\n",
    "        verbose=0,\n",
    "        callbacks=[early_stop]\n",
    "    )\n",
    "    \n",
    "    y_pred = model.predict(X_val)\n",
    "    mae = mean_absolute_error(y_val, y_pred)\n",
    "    rmse = np.sqrt(mean_squared_error(y_val, y_pred))\n",
    "    mape = mean_absolute_percentage_error(y_val, y_pred)\n",
    "    \n",
    "    print(f\"Config: units={units}, dropout={dropout}, lr={lr}, batch_size={batch_size}, epochs={epochs}\")\n",
    "    print(f\"MAE: {mae:.4f}, RMSE: {rmse:.4f}, MAPE: {mape:.4f}\\n\")\n",
    "    \n",
    "    # Salva no DataFrame\n",
    "    results.append({\n",
    "        \"units\": units,\n",
    "        \"dropout\": dropout,\n",
    "        \"learning_rate\": lr,\n",
    "        \"batch_size\": batch_size,\n",
    "        \"epochs\": epochs,\n",
    "        \"MAE\": mae,\n",
    "        \"RMSE\": rmse,\n",
    "        \"MAPE\": mape\n",
    "    })\n",
    "\n",
    "# Testar múltiplas configurações\n",
    "train_and_evaluate_model(units=50, dropout=0.2, lr=0.001, batch_size=32, epochs=50)\n",
    "train_and_evaluate_model(units=64, dropout=0.3, lr=0.0005, batch_size=16, epochs=50)\n",
    "\n",
    "# Mostrar todos os resultados\n",
    "df_results = pd.DataFrame(results)\n",
    "print(\"\\n📊 Resultados comparativos:\")\n",
    "print(df_results.sort_values(\"RMSE\"))\n"
   ]
  },
  {
   "cell_type": "code",
   "execution_count": 16,
   "id": "adbfbefc",
   "metadata": {},
   "outputs": [
    {
     "name": "stdout",
     "output_type": "stream",
     "text": [
      "Modelo salvo com sucesso!\n"
     ]
    }
   ],
   "source": [
    "# Salvar o modelo treinado\n",
    "model.save('../app//model/model_lstm.keras')\n",
    "print('Modelo salvo com sucesso!')"
   ]
  }
 ],
 "metadata": {
  "kernelspec": {
   "display_name": ".venv",
   "language": "python",
   "name": "python3"
  },
  "language_info": {
   "codemirror_mode": {
    "name": "ipython",
    "version": 3
   },
   "file_extension": ".py",
   "mimetype": "text/x-python",
   "name": "python",
   "nbconvert_exporter": "python",
   "pygments_lexer": "ipython3",
   "version": "3.10.12"
  }
 },
 "nbformat": 4,
 "nbformat_minor": 5
}
